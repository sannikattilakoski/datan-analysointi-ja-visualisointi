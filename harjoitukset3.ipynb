{
 "cells": [
  {
   "cell_type": "markdown",
   "id": "7fbe0021",
   "metadata": {},
   "source": [
    "# Datan analysointi ja visualisointi TTC8040\n",
    "## DA&VI Harjoitus 3\n",
    "\n",
    "Kolmannen viikon [materiaalia](https://student.labranet.jamk.fi/~pelju/datanav_k22/topic3/kerta3.ipynb). (Tosin en kyllä katsonut minkä verran tehtävät tulee just tästä matskusta, kun taitaa tulla useammasta näitä kysymyksiä kerralla.)\n",
    "\n",
    "***Tentti sulkeutuu keskiviikko, 12. huhtikuuta 2023, 23:59.***\n",
    "\n",
    "---\n",
    "\n",
    "\n",
    "## Kysymys 1\n",
    "# Kunnat ja kuntatilastot\n",
    "Tee funktio `kuntatilastot(url)`, joka laskee erikseen neljän maakunnan ja niissä olevien kaupungien ja ei-kaupunkien (Muu Kunta) tavanomaiset tilastotiedot omiin DataFrame-rakenteisiin sekä tulostaa niiden asukaslukujen summan, keskiarvon ja mediaanin (sum, mean, median).\n",
    "\n",
    "* lataa datan DataFrameen url:sta (sarakkeiden erotinmerkki on puolipiste ja desimaalimerkki on pilkku),\n",
    "* Valitse DataFramesta seuraavat neljä maakuntaa: 'Uusimaa', 'Päijät-Häme', 'Kanta-Häme', 'Pirkanmaa'\n",
    "* kopioi ensimmäiseen DataFrameen kaikki sarakkeet ja rivit, jossa sarakkeessa ‘kuntamuoto’ esiintyy merkkijono ‘Kaupunki’\n",
    "* kopioi toiseen DataFrameen kaikki sarakkeet ja rivit, jossa sarakkeessa ‘kuntamuoto’ esiintyy merkkijono ‘Muu kunta’\n",
    "* Tee uusi DataFrame, johon lisäät molempien DataFrame-rakenteiden 'Väkiluku'-sarakkeen mukaiset tilastotiedot seuraaviin uusiin sarakkeisiin: ‘Tyyppi’: (‘Kaupunki’ tai ‘Muu kunta’), ‘Keskiarvo’, ‘Mediaani’ ja ‘Summa’.\n",
    "* tulosta DataFramen tulokset pyöristäen tulokset lähimpään kokonaislukuun (ensin kaupungien tiedot)\n",
    "\n",
    "Tässä tehtävässä url=https://student.labranet.jamk.fi/~pelju/data_av/sources/kunnat.csv\n",
    "\n",
    "(Viittaus [kunnat.csv](https://student.labranet.jamk.fi/~pelju/data_av/sources/kunnat.csv), plus testissä [kunnat_2.csv](https://student.labranet.jamk.fi/~pelju/data_av/sources/kunnat_2.csv).)\n"
   ]
  },
  {
   "cell_type": "code",
   "execution_count": 67,
   "id": "09980882",
   "metadata": {},
   "outputs": [
    {
     "name": "stdout",
     "output_type": "stream",
     "text": [
      "      Tyyppi  Keskiarvo  Mediaani    Summa\n",
      "0   Kaupunki      69525     27592  2155287\n",
      "1  Muu kunta      10887      5403   402825\n"
     ]
    }
   ],
   "source": [
    "def kuntatilastot(url):\n",
    "    import pandas as pd\n",
    "    import numpy as np\n",
    "    \n",
    "    df = pd.read_csv(url, sep=';', decimal=',')\n",
    "    df = df[df['maakunta'].isin(['Uusimaa','Päijät-Häme','Kanta-Häme','Pirkanmaa'])]\n",
    "    df2 = df[df['kuntamuoto'].str.contains('Kaupunki')]\n",
    "    df3 = df[df['kuntamuoto'].str.contains('Muu kunta')]\n",
    "\n",
    "# Vaihtoehto 1\n",
    "    keskiarvo1 = df2['Väkiluku'].mean()\n",
    "    mediaani1 = df2['Väkiluku'].median()\n",
    "    summa1 = df2['Väkiluku'].sum()\n",
    "    \n",
    "    keskiarvo2 = df3['Väkiluku'].mean()\n",
    "    mediaani2 = df3['Väkiluku'].median()\n",
    "    summa2 = df3['Väkiluku'].sum()\n",
    "    \n",
    "    tilastot = {'Tyyppi': ['Kaupunki', 'Muu kunta'], 'Keskiarvo': [keskiarvo1, keskiarvo2], 'Mediaani': [mediaani1, mediaani2], 'Summa': [summa1, summa2]}\n",
    "    \n",
    "# Vaihtoehto 2\n",
    "    # df4 = pd.concat([df2, df3])\n",
    "    # df5 = df4.groupby(\"kuntamuoto\")[\"Väkiluku\"].agg(['mean', 'median', 'sum']).reset_index()  \n",
    "    # tilastot = {'Tyyppi': df5['kuntamuoto'], 'Keskiarvo': df5['mean'], 'Mediaani': df5['median'], 'Summa': df5['sum']} \n",
    "\n",
    "# Uusi dataframe\n",
    "    df6 = pd.DataFrame(tilastot)\n",
    "    df6['Keskiarvo'] = df6['Keskiarvo'].round().astype(int)\n",
    "    df6['Mediaani'] = df6['Mediaani'].round().astype(int)\n",
    "    tulos = df6\n",
    "\n",
    "    print(tulos)\n",
    "    # Älä kirjoita muita print komentoja ennen tulos muuttujan tulostusta.\n",
    "    \n",
    "### alla olevat rivit vain omaan testaukseen, ei palautukseen\n",
    "url='https://student.labranet.jamk.fi/~pelju/data_av/sources/kunnat.csv'\n",
    "url2='https://student.labranet.jamk.fi/~pelju/data_av/sources/kunnat_2.csv'\n",
    "\n",
    "kuntatilastot(url)\n",
    "\n",
    "# PS tehtävässä pitää esiintyä pandas"
   ]
  },
  {
   "cell_type": "markdown",
   "id": "9d8e190e",
   "metadata": {},
   "source": [
    "## Kysymys 2\n",
    "# Kunnat ja maakuntien tilastolliset tiedot\n",
    "Tee funktio `maakunnat(url)`, joka laskee maakuntien ei-kaupungien (Muu Kunta) väkiluvut yhteen sekä tulostaa ne maakunnat, joissa asuu eniten “Muu kunta” -kunnissa (eli ei kaupungeissa) asuvia asukkaita.\n",
    "\n",
    "* lataa datan DataFrameen url:sta (sarakkeiden erotinmerkki on puolipiste ja desimaalimerkki on pilkku),\n",
    "* kopioi uuteen DataFrameen kaikki sarakkeet ja rivit, jossa sarakkeessa ‘kuntamuoto’ esiintyy merkkijono ‘Muu kunta’\n",
    "* Laskee yhteen edellä haettujen kuntien asukasluvut ryhmittelemällä (groupby()-funktio) ne maakunnan mukaan\n",
    "* Muodostaa tuloksista DataFrame, jossa on kentät on järjestetty maakunnan ‘Väkiluku’ -kentän mukaan laskevasti (ts. järjestyksessä suurimmasta pienimpän)\n",
    "* tulostaa vain sarakkeet: ‘Väkiluku’, ‘kokonaispinta-ala’\n",
    "* tulostaa lopputulokseen kuusi (6) ensimmäistä riviä.\n",
    "\n",
    "Tässä tehtävässä url=https://student.labranet.jamk.fi/~pelju/data_av/sources/kunnat.csv\n",
    "\n",
    "(Viittaus [kunnat.csv](https://student.labranet.jamk.fi/~pelju/data_av/sources/kunnat.csv), plus testissä [kunnat_2.csv](https://student.labranet.jamk.fi/~pelju/data_av/sources/kunnat_2.csv).)"
   ]
  },
  {
   "cell_type": "code",
   "execution_count": 23,
   "id": "9d217778",
   "metadata": {},
   "outputs": [
    {
     "name": "stdout",
     "output_type": "stream",
     "text": [
      "                   Väkiluku  kokonaispinta-ala\n",
      "maakunta                                      \n",
      "Uusimaa              219203            5751.35\n",
      "Pohjois-Pohjanmaa     95571           21035.99\n",
      "Varsinais-Suomi       82793            7327.68\n",
      "Pirkanmaa             79856            4493.22\n",
      "Pohjois-Savo          69339           12357.90\n",
      "Keski-Suomi           69317           11077.61\n"
     ]
    }
   ],
   "source": [
    "def maakunnat(url):\n",
    "    import pandas as pd\n",
    "    import numpy as np\n",
    "    \n",
    "    df = pd.read_csv(url, sep=';', decimal=',')\n",
    "    \n",
    "    df2 = df[df['kuntamuoto'].str.contains('Muu kunta')]\n",
    "    # df3 = df2.groupby('maakunta')['Väkiluku', 'kokonaispinta-ala'].sum()\n",
    "    df3 = df2.groupby('maakunta').agg({'Väkiluku':'sum','kokonaispinta-ala':'sum'})\n",
    "    df3 = df3.sort_values('Väkiluku', ascending = False)\n",
    "    tulos = df3.head(6)\n",
    "\n",
    "    print(tulos)\n",
    "    \n",
    "### alla olevat rivit vain omaan testaukseen, ei palautukseen\n",
    "url='https://student.labranet.jamk.fi/~pelju/data_av/sources/kunnat.csv'\n",
    "url2='https://student.labranet.jamk.fi/~pelju/data_av/sources/kunnat_2.csv'\n",
    "\n",
    "maakunnat(url)\n",
    "\n",
    "# PS tehtävässä pitää esiintyä pandas"
   ]
  },
  {
   "cell_type": "markdown",
   "id": "8636d668",
   "metadata": {},
   "source": [
    "## Kysymys 3\n",
    "# Kunnat ja äänestysprosentit\n",
    "Tee funktio `kunnat(url)`, joka laskee tietyillä ehdoilla valittujen maakuntien kunnat, joissa on äänestetty eniten Keskusta-puoluetta.\n",
    "\n",
    "Tee ensin uusi DataFrame jossa on kaikki Suomen kunnat, joiden kuntamuoto on Kaupunki.\n",
    "\n",
    "* tulosta ne 10 kuntaa, joissa taajama-aste on yli 70% ja Keskusta-puolueen kannatus 2019 eduskuntavaaleissa on suurin kaikista puolueista. Vertaa kannatusta vain seuraaviin puolueisiin: 'ev19-PS', 'ev19-KOK', 'ev19-VIHR', 'ev19-RKP', 'ev19-SDP'\n",
    "* Lajittele tulokset Keskusta-puolueen kannatuksen mukaan siten, että suurimman kannatuksen Keskusta-puolueelle saanut kunta on ensimmäinen.\n",
    "* Datassa on kentät alle 15-vuotiaiden ja yli 64-vuotiaiden osuudelle. Laske näiden avulla 15-64 vuotiaiden osuus äänestäjistä ja luo DataFrameen uusi kenttä nimeltään 15-64%.\n",
    "\n",
    "Tulosta vastauksena seuraavat DataFramen sarakkeet (kunta, Taajama-aste, ev19-KESK, 15-64%) - alla malliesimerkki: \n",
    "\n",
    "\n",
    "|    | kunta       | Taajama-aste  | ev19-KESK | 15-64% |\n",
    "|----|-------------|---------------|-----------|--------|\n",
    "| 75 |  Kannus     |   73.2        |  47.2     |  58.4  |\n",
    "             \n",
    "                  \n",
    "<span style=\"color:red\">Huom! DataFramen sisältö tulostetaan sellaisenaan ilman muotoiluja tässä tehtävässä.</span>\n",
    "\n",
    "Tässä tehtävässä url=https://student.labranet.jamk.fi/~pelju/data_av/sources/kunnat.csv\n",
    "\n",
    "(Viittaus [kunnat.csv](https://student.labranet.jamk.fi/~pelju/data_av/sources/kunnat.csv), plus testissä [kunnat_2.csv](https://student.labranet.jamk.fi/~pelju/data_av/sources/kunnat_2.csv).)"
   ]
  },
  {
   "cell_type": "code",
   "execution_count": 28,
   "id": "2b5c8340",
   "metadata": {},
   "outputs": [
    {
     "name": "stdout",
     "output_type": "stream",
     "text": [
      "          kunta  Taajama-aste  ev19-KESK  15-64%\n",
      "75       Kannus          73.2       47.2    58.4\n",
      "305   Ylivieska          86.0       41.2    59.3\n",
      "70     Kalajoki          76.0       41.0    56.8\n",
      "37    Huittinen          70.8       38.2    57.1\n",
      "275      Tornio          87.8       37.9    60.0\n",
      "179    Oulainen          74.5       36.3    56.5\n",
      "87    Kemijärvi          70.1       34.9    52.4\n",
      "261  Suonenjoki          72.0       31.2    55.4\n",
      "217       Raahe          87.1       30.7    57.1\n",
      "194  Pieksämäki          76.1       27.2    57.2\n"
     ]
    }
   ],
   "source": [
    "def kunnat(url):\n",
    "    import pandas as pd\n",
    "    # df_3 = pd.read_csv(url, delimiter=\";\", decimal=',')\n",
    "    # city_df_3 = df_3[df_3['kuntamuoto'] == ('Kaupunki')].copy()\n",
    "    # df_taajama = city_df_3.loc[city_df_3['Taajama-aste'] > 70]\n",
    "    # # df_taajama = df_taajama[(df_taajama['ev19-KESK'] > df_taajama['ev19-PS'].iloc[0]) & (df_taajama['ev19-KESK'] > df_taajama['ev19-KOK'].iloc[0]) & (df_taajama['ev19-KESK'] > df_taajama['ev19-VIHR'].iloc[0]) & (df_taajama['ev19-KESK'] > df_taajama['ev19-RKP'].iloc[0]) & (df_taajama['ev19-KESK'] > df_taajama['ev19-SDP'].iloc[0])].copy()\n",
    "    # #new_df_3 = pd.concat([city_df_3, df_taajama], axis=0)\n",
    "    # # print(city_df_3)\n",
    "    # print(df_taajama)\n",
    "\n",
    "    df = pd.read_csv(url, sep=';', decimal=',')\n",
    "    df2 = df[df['kuntamuoto'].str.contains('Kaupunki')]\n",
    "    df3 = df2[(df2['Taajama-aste'] > 70) & (df2['ev19-KESK'] > df2[['ev19-PS', 'ev19-KOK', 'ev19-VIHR', 'ev19-RKP', 'ev19-SDP']].max(axis=1))]\n",
    "    df3 = df3.sort_values('ev19-KESK', ascending = False)\n",
    "    df3['15-64%'] = 100 - (df3['Alle 15-v. osuus%'] + df3['Yli 64-v. osuus%'])\n",
    "    df3 = df3[['kunta', 'Taajama-aste', 'ev19-KESK', '15-64%']]\n",
    "    tulos = df3.head(10)\n",
    "    print(tulos)\n",
    "\n",
    "\n",
    "### alla olevat rivit vain omaan testaukseen, ei palautukseen\n",
    "url='https://student.labranet.jamk.fi/~pelju/data_av/sources/kunnat.csv'\n",
    "url2='https://student.labranet.jamk.fi/~pelju/data_av/sources/kunnat_2.csv'\n",
    "\n",
    "kunnat(url)\n",
    "\n",
    "# PS tehtävässä pitää esiintyä pandas"
   ]
  },
  {
   "cell_type": "markdown",
   "id": "47042c1f",
   "metadata": {},
   "source": [
    "## Kysymys 4\n",
    "# Päästöjen aiheuttajia\n",
    "Tee funktio `emissions(url)`, joka tekee järjestyksessä seuraavaa:\n",
    "\n",
    "* lataa datan DataFrameen url:sta, jossa erotinmerkkinä on tabulaattori ('\\t'),\n",
    "* tallentaa DataFrameen sarakkeet 'country' ja 'main activity sector name',\n",
    "* poistaa DataFramesta rivit, jos sarakkeessa 'main activity sector name' esiintyy merkkijonot '20-99 All stationary installations' tai '21-99 All industrial installations (excl. combustion)'\n",
    "* laskee kuinka monta kertaa sarakkeen 'main activity sector name' eri arvot esiintyvät DataFramessa,\n",
    "* tulostusta varten sarake 'main activity sector name' on nimettävä uudelleen sarakkeeksi 'sector'\n",
    "* tulostaa (viisi ensimmäistä riviä) järjestyksessä pienimmästä suurimpaan sarakkeen 'sector' arvojen lukumäärät.\n",
    "\n",
    "Tässä tehtävässä url=https://student.labranet.jamk.fi/~huoptu/datananal_s20/kerta3/harjoitukset/ETS_Database_v38A.csv\n",
    "\n",
    "(Viittaus [ETS_Database_v38A.csv](https://student.labranet.jamk.fi/~huoptu/datananal_s20/kerta3/harjoitukset/ETS_Database_v38A.csv), plus testissä [ETS_Database_v38B.csv](https://student.labranet.jamk.fi/~huoptu/datananal_s20/kerta3/harjoitukset/ETS_Database_v38B.csv).)\n",
    "\n",
    "Vihjeitä:\n",
    "\n",
    "* sarake = 'country\\tcountry_code\\tETS information\\tmain activity sector name\\tunit\\tvalue\\tyear' \n",
    "\n",
    "* CSV:stä luetun dataframen merkkijonot tulee splitata vielä toiseen kertaan lukemisen jälkeen split()-funktiolla. "
   ]
  },
  {
   "cell_type": "code",
   "execution_count": 110,
   "id": "c7f94773",
   "metadata": {},
   "outputs": [
    {
     "name": "stdout",
     "output_type": "stream",
     "text": [
      "45 Capture of greenhouse gases under Directive 2009/31/EC       14\n",
      "46 Transport of greenhouse gases under Directive 2009/31/EC     22\n",
      "40 Production of glyoxal and glyoxylic acid                     37\n",
      "39 Production of adipic acid                                    43\n",
      "44 Production of soda ash and sodium bicarbonate               325\n",
      "Name: sector, dtype: int64\n"
     ]
    }
   ],
   "source": [
    "def emissions(url):\n",
    "    import pandas as pd\n",
    "    df = pd.read_csv(url,  sep='\"|\\\\t|\\t',engine='python')\n",
    "    df2 = df[['country', 'main activity sector name']]\n",
    "    rows = ['20-99 All stationary installations', '21-99 All industrial installations (excl. combustion)']\n",
    "    df3 = df2[~df2['main activity sector name'].isin(rows)]\n",
    "    counts = df3['main activity sector name'].value_counts()\n",
    "    counts.name = 'sector'\n",
    "    counts = counts.sort_values(ascending = True)\n",
    "    tulos = counts.head()\n",
    "\n",
    "    print(tulos)\n",
    "    \n",
    "    \n",
    "### alla olevat rivit vain omaan testaukseen, ei palautukseen\n",
    "url='https://student.labranet.jamk.fi/~huoptu/datananal_s20/kerta3/harjoitukset/ETS_Database_v38A.csv'\n",
    "url2='https://student.labranet.jamk.fi/~huoptu/datananal_s20/kerta3/harjoitukset/ETS_Database_v38B.csv'\n",
    "\n",
    "emissions(url)\n",
    "\n",
    "# PS tehtävässä pitää esiintyä pandas"
   ]
  },
  {
   "cell_type": "markdown",
   "id": "9a38a76d",
   "metadata": {},
   "source": [
    "## Kysymys 5\n",
    "# Päästöjen summaaminen\n",
    "Tee funktio `emissions(url)`, joka tekee järjestyksessä seuraavaa:\n",
    "\n",
    "* lataa datan DataFrameen url:sta, jossa erotinmerkkinä on tabulaattori ('\\t'),\n",
    "* tallentaa DataFrameen sarakkeet 'main activity sector name', 'value' ja 'year',\n",
    "* poistaa DataFramesta rivit, jos sarakkeessa 'main activity sector name' esiintyy merkkijonot '20-99 All stationary installations' tai '21-99 All industrial installations (excl. combustion)'\n",
    "* tallentaa uuteen DataFrameen kaikki rivit, joissa sarakkeen 'year' lukuarvo on yhtäsuuri tai suurempi kuin 2010 ja yhtäsuuri tai pienempi kuin 2015.\n",
    "* laskee uuteen DataFrameen kuinka paljon ovat kokonaispäästöt sektoreittain (summa sarakkeesta 'values', jotka on ryhmitelty sarakkeen 'main activity sector name' mukaan),\n",
    "* järjestää uuden DataFramen rivit suurimmasta pienimpään sarakkeen 'value' mukaan,\n",
    "* tulostaa viisi ensimmäistä riviä DataFramesta siten, että sarake 'main activity sector name' on nimetty sarakkeeksi 'sector',\n",
    "* huomaa, että sarake 'value' on ennen saraketta 'sector'.\n",
    "\n",
    "Tässä tehtävässä url=https://student.labranet.jamk.fi/~huoptu/datananal_s20/kerta3/harjoitukset/ETS_Database_v38A.csv\n",
    "\n",
    "(Viittaus [ETS_Database_v38A.csv](https://student.labranet.jamk.fi/~huoptu/datananal_s20/kerta3/harjoitukset/ETS_Database_v38A.csv), plus testissä [ETS_Database_v38B.csv](https://student.labranet.jamk.fi/~huoptu/datananal_s20/kerta3/harjoitukset/ETS_Database_v38B.csv).)"
   ]
  },
  {
   "cell_type": "code",
   "execution_count": 52,
   "id": "949b3bc4",
   "metadata": {},
   "outputs": [
    {
     "name": "stdout",
     "output_type": "stream",
     "text": [
      "           value                               sector\n",
      "1   1.273006e+10               20 Combustion of fuels\n",
      "5   2.053915e+09  24  Production of pig iron or steel\n",
      "10  1.803550e+09      29 Production of cement clinker\n",
      "2   1.678130e+09          21  Refining of mineral oil\n",
      "0   5.644274e+08                          10 Aviation\n"
     ]
    }
   ],
   "source": [
    "def emissions(url):\n",
    "    import pandas as pd\n",
    "    \n",
    "    df = pd.read_csv(url,  sep='\"|\\\\t|\\t',engine='python')\n",
    "    df2 = df[['main activity sector name', 'value', 'year']]\n",
    "    rows = ['20-99 All stationary installations', '21-99 All industrial installations (excl. combustion)']\n",
    "    df3 = df2[~df2['main activity sector name'].isin(rows)]\n",
    "    df3 = df3[df3['year'].str.len() == 4]\n",
    "    df3.loc[:,'year'] = df3.loc[:,'year'].astype(int)\n",
    "    df4 = df3[(df3['year'] >= 2010) & (df3['year'] <= 2015)]\n",
    "    group = df4.groupby('main activity sector name')['value'].sum()\n",
    "    df5 = group.reset_index()\n",
    "    df5 = df5.sort_values('value', ascending = False).head()\n",
    "    df5.rename(columns= {'main activity sector name':'sector'}, inplace=True)\n",
    "    tulos = df5[['value', 'sector']]\n",
    "    \n",
    "    # group.rename(index='sector', inplace=True)\n",
    "    # group.renanme_axis()\n",
    "\n",
    "    print(df5)\n",
    "    # print(tulos)\n",
    "    \n",
    "\n",
    "### alla olevat rivit vain omaan testaukseen, ei palautukseen (varo toistuvaa funktion nimeä)\n",
    "url='https://student.labranet.jamk.fi/~huoptu/datananal_s20/kerta3/harjoitukset/ETS_Database_v38A.csv'\n",
    "url2='https://student.labranet.jamk.fi/~huoptu/datananal_s20/kerta3/harjoitukset/ETS_Database_v38B.csv'\n",
    "\n",
    "emissions(url)\n",
    "\n",
    "# PS tehtävässä pitää esiintyä pandas jos et tollo sitä jo tajunnut kaikista aikaisemmista tehtävistä"
   ]
  },
  {
   "cell_type": "code",
   "execution_count": null,
   "id": "15e35ede-545a-4c51-ae02-c680d7be5797",
   "metadata": {},
   "outputs": [],
   "source": []
  }
 ],
 "metadata": {
  "kernelspec": {
   "display_name": "Python 3 (ipykernel)",
   "language": "python",
   "name": "python3"
  },
  "language_info": {
   "codemirror_mode": {
    "name": "ipython",
    "version": 3
   },
   "file_extension": ".py",
   "mimetype": "text/x-python",
   "name": "python",
   "nbconvert_exporter": "python",
   "pygments_lexer": "ipython3",
   "version": "3.9.13"
  }
 },
 "nbformat": 4,
 "nbformat_minor": 5
}
