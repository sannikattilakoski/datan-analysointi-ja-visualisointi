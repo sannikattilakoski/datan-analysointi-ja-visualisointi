{
 "cells": [
  {
   "cell_type": "markdown",
   "id": "72a56520-beb4-4964-93cf-8a8c9085ad97",
   "metadata": {
    "tags": []
   },
   "source": [
    "# Datan analysointi ja visualisointi TTC8040\n",
    "## DA&VI Harjoitus 2\n",
    "\n",
    "Toisen viikon [materiaalia](https://student.labranet.jamk.fi/~pelju/datanav_k22/topic2/kerta2.ipynb).\n",
    "\n",
    "## Kysymys 1\n",
    "# Kunta-datan käsittely\n",
    "Tee funktio ks_kunnat(url), joka tekee seuraavaa:\n",
    "\n",
    "* lataa CSV-datan DataFrameen url:sta (sarakkeiden erotinmerkki on puolipiste ja desimaalimerkki on pilkku)\n",
    "* kopioi uuteen DataFrameen kaikki sarakkeet ja rivit, joissa sarakkeessa ‘maakunta’ esiintyy merkkijono ‘Keski-Suomi’ ja sarakkeen ‘kokonaispinta-ala’ arvo on suurempi kuin 1000\n",
    "* suodata tiedot DataFramesta näyttämällä vain seuraavat sarakkeet: \"kunta\", \"maapinta-ala\", \"kokonaispinta-ala\" ja \"Väkiluku\".\n",
    "* Lajittele data siten, että kunta, jonka \"maapinta-ala\" on suurin tulee ensimmäiseksi (lajittelujärjestys laskeva)\n",
    "* tulosta lopputulokseen viisi ensimmäistä riviä.\n",
    "\n",
    "Tässä tehtävässä url=https://student.labranet.jamk.fi/~pelju/data_av/sources/kunnat.csv\n",
    "\n",
    "\n",
    "<span style=\"color:red\">Huom! Rivi-indeksi on esitetty ensimmäisessä sarakkeessa.</span>"
   ]
  },
  {
   "cell_type": "code",
   "execution_count": 2,
   "id": "1f4036fa",
   "metadata": {},
   "outputs": [
    {
     "name": "stdout",
     "output_type": "stream",
     "text": [
      "          kunta  maapinta-ala  kokonaispinta-ala  Väkiluku\n",
      "65        Jämsä       1571.36            1823.90     20607\n",
      "92       Keuruu       1257.97            1430.57      9762\n",
      "234  Saarijärvi       1251.72            1422.72      9415\n",
      "298  Viitasaari       1248.55            1589.12      6264\n",
      "63    Jyväskylä       1170.97            1466.35    141305\n"
     ]
    }
   ],
   "source": [
    "def ks_kunnat(url):\n",
    "    import pandas as pd\n",
    "    \n",
    "    df = pd.read_csv(url, sep=';', decimal=',')\n",
    "    df2 = df[(df['maakunta'] == 'Keski-Suomi') & (df['kokonaispinta-ala'] >= 1000)]\n",
    "    df2 = df2[['kunta', 'maapinta-ala', 'kokonaispinta-ala', 'Väkiluku']]\n",
    "    df2 = df2.sort_values('maapinta-ala', ascending = False)\n",
    "    tulos = df2.head()\n",
    "    print(tulos)\n",
    "\n",
    "url='https://student.labranet.jamk.fi/~pelju/data_av/sources/kunnat.csv'\n",
    "\n",
    "ks_kunnat(url)"
   ]
  },
  {
   "cell_type": "markdown",
   "id": "e7a4c363",
   "metadata": {},
   "source": [
    "## Kysymys 2\n",
    "# Kunnat\n",
    "Tee funktio kunnat(url), joka tekee seuraavaa:\n",
    "\n",
    "* lataa datan DataFrameen url:sta (sarakkeiden erotinmerkki on puolipiste ja desimaalimerkki on pilkku),\n",
    "* kopioi uuteen DataFrameen kaikki sarakkeet ja rivit, joissa sarakkeessa 'maakunta' esiintyvät merkkijonot 'Uusimaa', 'Keski- Pohjanmaa' tai 'Keski-Suomi' ja sarakkeen 'Väkiluku' arvo on pienempi kuin 10 000,\n",
    "* kopioi edellisen DataFramen uuteen DataFrameen siten, että ensin on lajiteltu sarake 'maakunta' ja sitten sarake 'kunta'  (ts. järjestysavaimia on kaksi kappaletta) aakkosissa nousevaan järjestykseen,\n",
    "* Valitse tulostukseen mukaan seuraavat sarakkeet: 'maakunta', 'kunta', ja 'Väkiluku'.\n",
    "* tulostaa lopputulokseen viisi ensimmäistä riviä."
   ]
  },
  {
   "cell_type": "code",
   "execution_count": 3,
   "id": "afa01a87",
   "metadata": {},
   "outputs": [
    {
     "name": "stdout",
     "output_type": "stream",
     "text": [
      "            maakunta       kunta  Väkiluku\n",
      "22   Keski-Pohjanmaa      Halsua      1165\n",
      "75   Keski-Pohjanmaa      Kannus      5502\n",
      "84   Keski-Pohjanmaa   Kaustinen      4273\n",
      "136  Keski-Pohjanmaa  Lestijärvi       737\n",
      "191  Keski-Pohjanmaa       Perho      2825\n"
     ]
    }
   ],
   "source": [
    "def kunnat(url):\n",
    "    import pandas as pd\n",
    "    \n",
    "    df = pd.read_csv(url, sep=';', decimal=',')\n",
    "    df2 = df[(df['maakunta'].isin(['Uusimaa', 'Keski-Pohjanmaa', 'Keski-Suomi'])) & (df['Väkiluku'] <= 10000)]\n",
    "    df3 = df2.sort_values(['maakunta', 'kunta'])\n",
    "    df3 = df3.loc[:,['maakunta', 'kunta', 'Väkiluku']]\n",
    "    tulos = df3.head()\n",
    "    print(tulos)\n",
    "\n",
    "url='https://student.labranet.jamk.fi/~pelju/data_av/sources/kunnat.csv'\n",
    "\n",
    "kunnat(url)"
   ]
  },
  {
   "cell_type": "markdown",
   "id": "8dba1791",
   "metadata": {},
   "source": [
    "## Kysymys 3\n",
    "# Kunta-datan käsittely (uudet datakentät)\n",
    "Tee funktio vesiala(url), joka tekee seuraavaa:\n",
    "\n",
    "* lataa datan DataFrameen url:sta (sarakkeiden erotinmerkki on puolipiste ja desimaalimerkki on pilkku),\n",
    "* kopioi uuteen DataFrameen kaikki sarakkeet ja rivit, jossa sarakkeessa ‘kuntamuoto’ esiintyy merkkijonot ‘Kaupunki’\n",
    "* kopioi uuteen DataFrameen kaikki sarakkeet ja rivit, jossa sarakkeessa ‘maakunta’ esiintyy merkkijonot ‘Varsinais-Suomi’ tai ‘Etelä-Savo’\n",
    "* laske uusi sarake ‘vesipinta-ala’, joka lasketaan vähentämällä 'kokonaispinta-ala' -sarakkeesta 'maapinta-ala'. Lisää uusi sarake 'vesipinta-ala' DataFrameen\n",
    "* Lajittele DataFramessa olevat kaupungit laskevaan järjestykseen (suurin ensin) uuden ‘vesipinta-ala’-sarakkeen mukaan\n",
    "* Valitse tulostukseen mukaan seuraavat sarakkeet: ‘kunta’, ‘maakunta’, ‘vesipinta-ala’, ‘kokonaispinta-ala’, ja ‘Väkiluku’.\n",
    "* tulosta lopputulokseen viisi ensimmäistä riviä.\n",
    "\n",
    "<span style=\"color:red\">Huom! Rivi-indeksi on esitetty ensimmäisessä sarakkeessa.</span>"
   ]
  },
  {
   "cell_type": "code",
   "execution_count": 4,
   "id": "00b2113e",
   "metadata": {},
   "outputs": [
    {
     "name": "stdout",
     "output_type": "stream",
     "text": [
      "            kunta         maakunta  vesipinta-ala  kokonaispinta-ala  Väkiluku\n",
      "185      Parainen  Varsinais-Suomi        4664.99            5548.11     15217\n",
      "286  Uusikaupunki  Varsinais-Suomi        1429.68            1932.43     15700\n",
      "241    Savonlinna       Etelä-Savo        1359.61            3597.70     33611\n",
      "157       Mikkeli       Etelä-Savo         681.21            3229.57     53818\n",
      "168      Naantali  Varsinais-Suomi         375.56             688.01     19245\n"
     ]
    }
   ],
   "source": [
    "def vesiala(url):\n",
    "    import pandas as pd\n",
    "    \n",
    "    df = pd.read_csv(url, sep=';', decimal=',')\n",
    "    df2 = df[df['kuntamuoto'].str.contains('Kaupunki')]\n",
    "    df3 = df2[df2['maakunta'].str.contains('Varsinais-Suomi|Etelä-Savo')]\n",
    "    arvot = df3['kokonaispinta-ala'] - df3['maapinta-ala']\n",
    "    df3.insert(7,\"vesipinta-ala\",arvot,True)\n",
    "    df3 = df3.sort_values('vesipinta-ala', ascending = False)\n",
    "    df3 = df3.loc[:,['kunta', 'maakunta', 'vesipinta-ala', 'kokonaispinta-ala', 'Väkiluku']]\n",
    "    tulos = df3.head()\n",
    "    print(tulos)\n",
    "\n",
    "url='https://student.labranet.jamk.fi/~pelju/data_av/sources/kunnat.csv'\n",
    "\n",
    "vesiala(url)"
   ]
  },
  {
   "cell_type": "markdown",
   "id": "db34a50e",
   "metadata": {},
   "source": [
    "## Kysymys 4\n",
    "# Sähkön hintatietojen luokittelua\n",
    "Tee funktio sahko(url), joka tekee seuraavaa:\n",
    "\n",
    "* Lukee url-osoitteesta datan DataFrameen, kun sarakkeiden erottimena on pilkku ja desimaalierottimena piste\n",
    "* jos sarakkeissa Year Total €/MWh ja December €/MWh niiden välillä on merkki \".\", korvataan merkki NumPy:n nan-arvolla hyödyntäen isin()-metodia,\n",
    "* tekee DataFrameen uuden sarakkeen 'hintaluokka', jossa on viisi hintaluokkaa sarakkeesta 'Year Total €/MWh' siten, että ylimmän hintaluokan hinta on 'Year Total €/MWh'-sarakkeen suurin arvo. Sen sijaan alimman hintaluokan hinta on 'Year Total €/MWh'-sarakkeen pienin arvo, mutta alinta arvoa ei tehtävässä lasketa mukaan alimman hintaluokan lukumäärään. Vinkki: Käytä tasavälisten hintaluokkien tekemiseen metodeja np.linspace() sekä pd.cut() yhdessä, sillä muuten täsmälleen mallivastauksen mukaisen vastauksen saaminen on luultavasti mahdoton tehtävä.\n",
    "* tulostaa hintaluokka-sarakkeen hintaluokkien lukumäärät value_counts()-metodilla,\n",
    "* tarkista lopuksi, että funktio järjestää tulosteen samoin kuin esimerkkivastauksessa."
   ]
  },
  {
   "cell_type": "code",
   "execution_count": 6,
   "id": "e244e8a1",
   "metadata": {},
   "outputs": [
    {
     "name": "stdout",
     "output_type": "stream",
     "text": [
      "(12.06, 21.256]     21\n",
      "(21.256, 30.452]    85\n",
      "(30.452, 39.648]    78\n",
      "(39.648, 48.844]    22\n",
      "(48.844, 58.04]     28\n",
      "Name: hintaluokka, dtype: int64\n"
     ]
    }
   ],
   "source": [
    "def sahko(url):\n",
    "    import pandas as pd\n",
    "    import numpy as np\n",
    "    \n",
    "    df = pd.read_csv(url, sep=',', decimal='.')\n",
    "\n",
    "    df = df.loc[:,'Year Total €/MWh':'December €/MWh']\n",
    "    dots = df.isin(['.'])\n",
    "    df = df.mask(dots, np.nan)\n",
    "    \n",
    "    pienin = df['Year Total €/MWh'].astype(float).min()\n",
    "    suurin = df['Year Total €/MWh'].astype(float).max()\n",
    "    lokerot = np.linspace(pienin,suurin,6)\n",
    "    \n",
    "    year = df['Year Total €/MWh'].astype(float)\n",
    "    arvot = pd.cut(year, lokerot)\n",
    "    df.insert(1,\"hintaluokka\",arvot,True)\n",
    "    tulos = df['hintaluokka'].value_counts(sort=False)\n",
    "    print(tulos)\n",
    "\n",
    "url='https://student.labranet.jamk.fi/~huoptu/datananal_s20/kerta2/harjoitukset/ehi_010_2020q2.csv'\n",
    "\n",
    "sahko(url)"
   ]
  },
  {
   "cell_type": "markdown",
   "id": "f3833032",
   "metadata": {},
   "source": [
    "## Kysymys 5\n",
    "\n",
    "# Sähkön hintatietojen luokittelua (2)\n",
    "Tee funktio suomisahko(url), joka tekee seuraavaa:\n",
    "\n",
    "* Lukee url-osoitteesta datan DataFrameen, kun sarakkeiden erottimena on pilkku ja desimaalierottimena piste\n",
    "* jos sarakkeissa Year Total €/MWh ja December €/MWh niiden välillä on merkki \".\", korvataan merkki NumPy:n nan-arvolla hyödyntäen isin()-metodia,\n",
    "* muuntaa sarakkeiden Year Total €/MWh ja December €/MWh ja niiden välissä olevien sarakkeiden tietotyypiksi float,\n",
    "* kopioi DataFramesta kaikki sarakkeet ja ne rivit, joiden sarakkeessa Price area on merkkijono 'Finland',\n",
    "* laskee koko vuoden sähkön hinnan keskiarvon uuteen sarakkeeseen Average €/MWh kaikilta kuukausilta ('January €/MWh'-'December €/MWh'),\n",
    "* laskee sarakkeeseen Below average price, kuinka monena kuukautena sähkönhinta on ollut alle vuoden keskiarvon,\n",
    "* laskee sarakkeeseen Above average price, kuinka monena kuukautena sähkönhinta on ollut yli vuoden keskiarvon tai yhtä paljon kuin keskiarvohinta,\n",
    "* tulostaa vain ne kymmenen riviä (head(10)), joilla sarakkeiden 'Below average price' ja 'Above average price' summa on 12."
   ]
  },
  {
   "cell_type": "code",
   "execution_count": 7,
   "id": "1071470a",
   "metadata": {},
   "outputs": [
    {
     "name": "stdout",
     "output_type": "stream",
     "text": [
      "     Year  Below average price  Above average price\n",
      "145  1998                    5                    7\n",
      "146  1999                    5                    7\n",
      "147  2000                    7                    5\n",
      "148  2001                    7                    5\n",
      "149  2002                    9                    3\n",
      "150  2003                    9                    3\n",
      "151  2004                    7                    5\n",
      "152  2005                    5                    7\n",
      "153  2006                    6                    6\n",
      "154  2007                    7                    5\n"
     ]
    }
   ],
   "source": [
    "def suomisahko(url):\n",
    "    import pandas as pd\n",
    "    import numpy as np\n",
    "    \n",
    "    df = pd.read_csv(url, sep=',', decimal='.')\n",
    "\n",
    "    cols = df.loc[:,'Year Total €/MWh':'December €/MWh'].columns\n",
    "    dots = df[cols].isin(['.'])\n",
    "    df[cols] = df[cols].mask(dots, np.nan)\n",
    "    df.loc[:,'Year Total €/MWh':'December €/MWh'] = df.loc[:,'Year Total €/MWh':'December €/MWh'].astype('float')\n",
    "    df = df[df['Price area'].isin(['Finland'])]\n",
    " \n",
    "    df2 = df.loc[:,'January €/MWh':'December €/MWh']\n",
    "    average = df2.mean(axis = 1, skipna = True)\n",
    "    df.insert(len(df.columns),\"Average €/MWh\",average,True)\n",
    "    less = df.loc[:,'January €/MWh':'Average €/MWh'].apply(lambda x: (x['January €/MWh':'December €/MWh'][x['January €/MWh':'December €/MWh'] < x['Average €/MWh']]).count(), axis=1)\n",
    "    df.insert(len(df.columns),\"Below average price\",less,True)\n",
    "    over = df.loc[:,'January €/MWh':'Average €/MWh'].apply(lambda x: (x['January €/MWh':'December €/MWh'][x['January €/MWh':'December €/MWh'] >= x['Average €/MWh']]).count(), axis=1)\n",
    "    df.insert(len(df.columns),\"Above average price\",over,True)\n",
    "    df = df[df['Below average price'] + df['Above average price'] == 12]\n",
    "    tulos = df[['Year', 'Below average price', 'Above average price']].head(10)\n",
    "    print(tulos)\n",
    "\n",
    "url='https://student.labranet.jamk.fi/~huoptu/datananal_s20/kerta2/harjoitukset/ehi_010_2020q2.csv'\n",
    "\n",
    "suomisahko(url)"
   ]
  },
  {
   "cell_type": "code",
   "execution_count": null,
   "id": "9eef4180-9a43-472e-a660-ab888da7b556",
   "metadata": {},
   "outputs": [],
   "source": []
  }
 ],
 "metadata": {
  "kernelspec": {
   "display_name": "Python 3 (ipykernel)",
   "language": "python",
   "name": "python3"
  },
  "language_info": {
   "codemirror_mode": {
    "name": "ipython",
    "version": 3
   },
   "file_extension": ".py",
   "mimetype": "text/x-python",
   "name": "python",
   "nbconvert_exporter": "python",
   "pygments_lexer": "ipython3",
   "version": "3.9.13"
  }
 },
 "nbformat": 4,
 "nbformat_minor": 5
}
